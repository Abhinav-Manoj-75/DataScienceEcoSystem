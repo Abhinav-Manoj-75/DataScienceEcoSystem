{
 "cells": [
  {
   "cell_type": "markdown",
   "id": "cbacaeb5-0dc5-4296-9c98-6aa1cec24ef7",
   "metadata": {},
   "source": [
    "# Data Science Tools and Ecosystems"
   ]
  },
  {
   "cell_type": "markdown",
   "id": "2663717c-6dff-4e70-9b20-a7d7c1b4db49",
   "metadata": {},
   "source": [
    "In this notebook, Data Science Tools and Ecosystem are summarized"
   ]
  },
  {
   "cell_type": "markdown",
   "id": "6352edce-5f59-407f-b71f-de4aa7819943",
   "metadata": {},
   "source": [
    "**Objectives:**\n",
    "- Popular Lagnuages\n",
    "- Common Libraries\n",
    "- Conversion of minutes to hours\n",
    "- Simple Arithmetic expressions\n"
   ]
  },
  {
   "cell_type": "markdown",
   "id": "b1813466-aa39-4951-a9b1-2a661174d637",
   "metadata": {},
   "source": [
    "Some of the popular languages that Data Scientists use are :\n",
    "1. Python\n",
    "2. SQL\n",
    "3. R\n",
    "4. JAVA"
   ]
  },
  {
   "cell_type": "markdown",
   "id": "717d7b60-2909-4ad7-b14b-ced3d4498415",
   "metadata": {},
   "source": [
    "Some of the commonly used libraries used by Data Scientists include :\n",
    "1. Numpy\n",
    "2. Matplotlib\n",
    "3. Pandas\n"
   ]
  },
  {
   "cell_type": "markdown",
   "id": "c401b482-74d9-4324-819d-b3b932e07022",
   "metadata": {},
   "source": [
    "|Data Science Tools |\n",
    "|-------|\n",
    "|Jupyter Labs|\n",
    "|RStudio|\n",
    "|VSCode|\n"
   ]
  },
  {
   "cell_type": "markdown",
   "id": "ab954e47-2d16-4e3d-b6ad-f453232e3484",
   "metadata": {},
   "source": [
    "### Below are a few examples of evaluating arithmetic expressions in Python"
   ]
  },
  {
   "cell_type": "code",
   "execution_count": 1,
   "id": "954ca58e-aa6b-4ba7-8c5a-d14a096f6e7f",
   "metadata": {
    "scrolled": true
   },
   "outputs": [
    {
     "data": {
      "text/plain": [
       "17"
      ]
     },
     "execution_count": 1,
     "metadata": {},
     "output_type": "execute_result"
    }
   ],
   "source": [
    "##This a simple arithmetic expression to mutiply then add integers\n",
    "(3*4)+5\n"
   ]
  },
  {
   "cell_type": "code",
   "execution_count": 2,
   "id": "3b270e5b-67a8-43c3-81ea-bf0cc35342d4",
   "metadata": {},
   "outputs": [
    {
     "data": {
      "text/plain": [
       "3.3333333333333335"
      ]
     },
     "execution_count": 2,
     "metadata": {},
     "output_type": "execute_result"
    }
   ],
   "source": [
    "##This will convert 200 minutes to hours by diving by 60\n",
    "200/60"
   ]
  },
  {
   "cell_type": "markdown",
   "id": "a4b6ef1c-7ca6-460a-bb6d-539b209305ba",
   "metadata": {},
   "source": [
    "## Author\n",
    "Abhinav Manoj"
   ]
  }
 ],
 "metadata": {
  "kernelspec": {
   "display_name": "Python 3 (ipykernel)",
   "language": "python",
   "name": "python3"
  },
  "language_info": {
   "codemirror_mode": {
    "name": "ipython",
    "version": 3
   },
   "file_extension": ".py",
   "mimetype": "text/x-python",
   "name": "python",
   "nbconvert_exporter": "python",
   "pygments_lexer": "ipython3",
   "version": "3.12.8"
  }
 },
 "nbformat": 4,
 "nbformat_minor": 5
}
